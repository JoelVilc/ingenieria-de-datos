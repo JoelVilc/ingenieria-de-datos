{
 "metadata": {
  "language_info": {
   "codemirror_mode": {
    "name": "ipython",
    "version": 3
   },
   "file_extension": ".py",
   "mimetype": "text/x-python",
   "name": "python",
   "nbconvert_exporter": "python",
   "pygments_lexer": "ipython3",
   "version": 3
  },
  "orig_nbformat": 2,
  "kernelspec": {
   "name": "python_defaultSpec_1595378504114",
   "display_name": "Python 3.7.6 64-bit ('base': conda)"
  }
 },
 "nbformat": 4,
 "nbformat_minor": 2,
 "cells": [
  {
   "cell_type": "markdown",
   "metadata": {},
   "source": [
    "# Series"
   ]
  },
  {
   "cell_type": "code",
   "execution_count": 1,
   "metadata": {},
   "outputs": [
    {
     "output_type": "execute_result",
     "data": {
      "text/plain": "0    100\n1    200\n2    300\ndtype: int64"
     },
     "metadata": {},
     "execution_count": 1
    }
   ],
   "source": [
    "import pandas as pd\n",
    "\n",
    "series_test = pd.Series([100, 200, 300])\n",
    "\n",
    "series_test"
   ]
  },
  {
   "cell_type": "code",
   "execution_count": 2,
   "metadata": {},
   "outputs": [
    {
     "output_type": "execute_result",
     "data": {
      "text/plain": "1999    48\n2000    65\n2001    89\ndtype: int64"
     },
     "metadata": {},
     "execution_count": 2
    }
   ],
   "source": [
    "series_test2 = pd.Series({1999: 48, \n",
    "                          2000: 65,\n",
    "                          2001: 89})\n",
    "series_test2"
   ]
  },
  {
   "cell_type": "markdown",
   "metadata": {},
   "source": [
    "# DataFrames"
   ]
  },
  {
   "cell_type": "code",
   "execution_count": 3,
   "metadata": {},
   "outputs": [
    {
     "output_type": "execute_result",
     "data": {
      "text/plain": "   1999  2000  2001\n0    74    34    23\n1    38    32    38\n2    39    32    24",
      "text/html": "<div>\n<style scoped>\n    .dataframe tbody tr th:only-of-type {\n        vertical-align: middle;\n    }\n\n    .dataframe tbody tr th {\n        vertical-align: top;\n    }\n\n    .dataframe thead th {\n        text-align: right;\n    }\n</style>\n<table border=\"1\" class=\"dataframe\">\n  <thead>\n    <tr style=\"text-align: right;\">\n      <th></th>\n      <th>1999</th>\n      <th>2000</th>\n      <th>2001</th>\n    </tr>\n  </thead>\n  <tbody>\n    <tr>\n      <th>0</th>\n      <td>74</td>\n      <td>34</td>\n      <td>23</td>\n    </tr>\n    <tr>\n      <th>1</th>\n      <td>38</td>\n      <td>32</td>\n      <td>38</td>\n    </tr>\n    <tr>\n      <th>2</th>\n      <td>39</td>\n      <td>32</td>\n      <td>24</td>\n    </tr>\n  </tbody>\n</table>\n</div>"
     },
     "metadata": {},
     "execution_count": 3
    }
   ],
   "source": [
    "# Dataframe formado con un diccionario. Los datos de series son pasados como lista\n",
    "frame_test = pd.DataFrame({1999: [74, 38, 39],\n",
    "                           2000: [34, 32, 32],\n",
    "                           2001: [23, 38, 24]})\n",
    "frame_test"
   ]
  },
  {
   "cell_type": "code",
   "execution_count": 4,
   "metadata": {},
   "outputs": [
    {
     "output_type": "execute_result",
     "data": {
      "text/plain": "    0   1   2\n0  74  38  39\n1  34  32  32\n2  23  38  24",
      "text/html": "<div>\n<style scoped>\n    .dataframe tbody tr th:only-of-type {\n        vertical-align: middle;\n    }\n\n    .dataframe tbody tr th {\n        vertical-align: top;\n    }\n\n    .dataframe thead th {\n        text-align: right;\n    }\n</style>\n<table border=\"1\" class=\"dataframe\">\n  <thead>\n    <tr style=\"text-align: right;\">\n      <th></th>\n      <th>0</th>\n      <th>1</th>\n      <th>2</th>\n    </tr>\n  </thead>\n  <tbody>\n    <tr>\n      <th>0</th>\n      <td>74</td>\n      <td>38</td>\n      <td>39</td>\n    </tr>\n    <tr>\n      <th>1</th>\n      <td>34</td>\n      <td>32</td>\n      <td>32</td>\n    </tr>\n    <tr>\n      <th>2</th>\n      <td>23</td>\n      <td>38</td>\n      <td>24</td>\n    </tr>\n  </tbody>\n</table>\n</div>"
     },
     "metadata": {},
     "execution_count": 4
    }
   ],
   "source": [
    "frame_test2 = pd.DataFrame([[74, 38, 39],\n",
    "                            [34, 32, 32],\n",
    "                            [23, 38, 24]])\n",
    "frame_test2"
   ]
  },
  {
   "cell_type": "code",
   "execution_count": 5,
   "metadata": {},
   "outputs": [
    {
     "output_type": "execute_result",
     "data": {
      "text/plain": "   1999  2000  2001\n0    74    38    39\n1    34    32    32\n2    23    38    24",
      "text/html": "<div>\n<style scoped>\n    .dataframe tbody tr th:only-of-type {\n        vertical-align: middle;\n    }\n\n    .dataframe tbody tr th {\n        vertical-align: top;\n    }\n\n    .dataframe thead th {\n        text-align: right;\n    }\n</style>\n<table border=\"1\" class=\"dataframe\">\n  <thead>\n    <tr style=\"text-align: right;\">\n      <th></th>\n      <th>1999</th>\n      <th>2000</th>\n      <th>2001</th>\n    </tr>\n  </thead>\n  <tbody>\n    <tr>\n      <th>0</th>\n      <td>74</td>\n      <td>38</td>\n      <td>39</td>\n    </tr>\n    <tr>\n      <th>1</th>\n      <td>34</td>\n      <td>32</td>\n      <td>32</td>\n    </tr>\n    <tr>\n      <th>2</th>\n      <td>23</td>\n      <td>38</td>\n      <td>24</td>\n    </tr>\n  </tbody>\n</table>\n</div>"
     },
     "metadata": {},
     "execution_count": 5
    }
   ],
   "source": [
    "frame_test3 = pd.DataFrame([[74, 38, 39],\n",
    "                            [34, 32, 32],\n",
    "                            [23, 38, 24]], columns=[1999, 2000, 2001])\n",
    "frame_test3"
   ]
  },
  {
   "cell_type": "markdown",
   "metadata": {},
   "source": [
    "# Read data"
   ]
  },
  {
   "cell_type": "code",
   "execution_count": 6,
   "metadata": {},
   "outputs": [
    {
     "output_type": "execute_result",
     "data": {
      "text/plain": "pandas.core.frame.DataFrame"
     },
     "metadata": {},
     "execution_count": 6
    }
   ],
   "source": [
    "pd.options.display.max_rows = 10\n",
    "\n",
    "el_universal = pd.read_csv('/home/franco/Documents/Python/Proyectos/ingenieria-de-datos/web-scrapper/datasets/eluniversal_2020_07_21_articles.csv')\n",
    "\n",
    "type(el_universal)"
   ]
  },
  {
   "cell_type": "code",
   "execution_count": 7,
   "metadata": {},
   "outputs": [
    {
     "output_type": "execute_result",
     "data": {
      "text/plain": "                                                  body  \\\n0    \\n\\nEl comunicado técnico diario de la Secreta...   \n1    \\nEn la década de los 90 los televidentes vier...   \n2    \\nMudanzas en serie, desempleo, criminalidad e...   \n3    \\nAlrededor del 33% las microindustrias queret...   \n4    \\nEl líder nacional del PAN, Marko Cortés aseg...   \n..                                                 ...   \n127  \\n\\nEn Puebla se han registrado 1,998 muertes ...   \n128  \\n\\nHan pasado siete meses de este 2020 y el a...   \n129  \\nEl presidente Andrés Manuel López Obrador pi...   \n130  \\nLuego de que el subsecretario de Prevención ...   \n131  \\nEl Club América hizo oficial su indumentaria...   \n\n                                                 title  \\\n0    Casos de Covid-19 confirmados en México al 20 ...   \n1                                                  NaN   \n2                                                  NaN   \n3     Quiebran 33% de industrias pequeñas por pandemia   \n4    Gatell y AMLO deben rendir cuentas por fallas ...   \n..                                                 ...   \n127  Casos confirmados de Covid-19 al 20 de julio, ...   \n128                Famosos que han muerto en este 2020   \n129  AMLO pide a gobernadores mantener coordinación...   \n130  SLP siempre ha entregado a tiempo la informaci...   \n131          América revela su nuevo uniforme de local   \n\n                                                   url  \n0    https://www.eluniversal.com.mx/estados/casos-d...  \n1    https://www.viveusa.mx/showbiz/que-fue-de-la-p...  \n2    https://www.viveusa.mx/noticias/como-ha-cambia...  \n3    https://www.eluniversalqueretaro.mx/portada/qu...  \n4    https://www.eluniversal.com.mx/nacion/coronavi...  \n..                                                 ...  \n127  https://www.eluniversal.com.mx/estados/casos-c...  \n128  https://www.eluniversal.com.mx/espectaculos/fa...  \n129  https://www.eluniversal.com.mx/nacion/amlo-pid...  \n130  https://sanluis.eluniversal.com.mx/sociedad/11...  \n131  https://www.eluniversal.com.mx/universal-depor...  \n\n[132 rows x 3 columns]",
      "text/html": "<div>\n<style scoped>\n    .dataframe tbody tr th:only-of-type {\n        vertical-align: middle;\n    }\n\n    .dataframe tbody tr th {\n        vertical-align: top;\n    }\n\n    .dataframe thead th {\n        text-align: right;\n    }\n</style>\n<table border=\"1\" class=\"dataframe\">\n  <thead>\n    <tr style=\"text-align: right;\">\n      <th></th>\n      <th>body</th>\n      <th>title</th>\n      <th>url</th>\n    </tr>\n  </thead>\n  <tbody>\n    <tr>\n      <th>0</th>\n      <td>\\n\\nEl comunicado técnico diario de la Secreta...</td>\n      <td>Casos de Covid-19 confirmados en México al 20 ...</td>\n      <td>https://www.eluniversal.com.mx/estados/casos-d...</td>\n    </tr>\n    <tr>\n      <th>1</th>\n      <td>\\nEn la década de los 90 los televidentes vier...</td>\n      <td>NaN</td>\n      <td>https://www.viveusa.mx/showbiz/que-fue-de-la-p...</td>\n    </tr>\n    <tr>\n      <th>2</th>\n      <td>\\nMudanzas en serie, desempleo, criminalidad e...</td>\n      <td>NaN</td>\n      <td>https://www.viveusa.mx/noticias/como-ha-cambia...</td>\n    </tr>\n    <tr>\n      <th>3</th>\n      <td>\\nAlrededor del 33% las microindustrias queret...</td>\n      <td>Quiebran 33% de industrias pequeñas por pandemia</td>\n      <td>https://www.eluniversalqueretaro.mx/portada/qu...</td>\n    </tr>\n    <tr>\n      <th>4</th>\n      <td>\\nEl líder nacional del PAN, Marko Cortés aseg...</td>\n      <td>Gatell y AMLO deben rendir cuentas por fallas ...</td>\n      <td>https://www.eluniversal.com.mx/nacion/coronavi...</td>\n    </tr>\n    <tr>\n      <th>...</th>\n      <td>...</td>\n      <td>...</td>\n      <td>...</td>\n    </tr>\n    <tr>\n      <th>127</th>\n      <td>\\n\\nEn Puebla se han registrado 1,998 muertes ...</td>\n      <td>Casos confirmados de Covid-19 al 20 de julio, ...</td>\n      <td>https://www.eluniversal.com.mx/estados/casos-c...</td>\n    </tr>\n    <tr>\n      <th>128</th>\n      <td>\\n\\nHan pasado siete meses de este 2020 y el a...</td>\n      <td>Famosos que han muerto en este 2020</td>\n      <td>https://www.eluniversal.com.mx/espectaculos/fa...</td>\n    </tr>\n    <tr>\n      <th>129</th>\n      <td>\\nEl presidente Andrés Manuel López Obrador pi...</td>\n      <td>AMLO pide a gobernadores mantener coordinación...</td>\n      <td>https://www.eluniversal.com.mx/nacion/amlo-pid...</td>\n    </tr>\n    <tr>\n      <th>130</th>\n      <td>\\nLuego de que el subsecretario de Prevención ...</td>\n      <td>SLP siempre ha entregado a tiempo la informaci...</td>\n      <td>https://sanluis.eluniversal.com.mx/sociedad/11...</td>\n    </tr>\n    <tr>\n      <th>131</th>\n      <td>\\nEl Club América hizo oficial su indumentaria...</td>\n      <td>América revela su nuevo uniforme de local</td>\n      <td>https://www.eluniversal.com.mx/universal-depor...</td>\n    </tr>\n  </tbody>\n</table>\n<p>132 rows × 3 columns</p>\n</div>"
     },
     "metadata": {},
     "execution_count": 7
    }
   ],
   "source": [
    "el_universal"
   ]
  },
  {
   "cell_type": "markdown",
   "metadata": {},
   "source": [
    "# Index and selection"
   ]
  },
  {
   "cell_type": "code",
   "execution_count": 8,
   "metadata": {},
   "outputs": [
    {
     "output_type": "execute_result",
     "data": {
      "text/plain": "0      Casos de Covid-19 confirmados en México al 20 ...\n1                                                    NaN\n2                                                    NaN\n3       Quiebran 33% de industrias pequeñas por pandemia\n4      Gatell y AMLO deben rendir cuentas por fallas ...\n                             ...                        \n127    Casos confirmados de Covid-19 al 20 de julio, ...\n128                  Famosos que han muerto en este 2020\n129    AMLO pide a gobernadores mantener coordinación...\n130    SLP siempre ha entregado a tiempo la informaci...\n131            América revela su nuevo uniforme de local\nName: title, Length: 132, dtype: object"
     },
     "metadata": {},
     "execution_count": 8
    }
   ],
   "source": [
    "# like dictionary:\n",
    "\n",
    "el_universal['title']"
   ]
  },
  {
   "cell_type": "code",
   "execution_count": 9,
   "metadata": {},
   "outputs": [
    {
     "output_type": "execute_result",
     "data": {
      "text/plain": "                                                 title  \\\n0    Casos de Covid-19 confirmados en México al 20 ...   \n1                                                  NaN   \n2                                                  NaN   \n3     Quiebran 33% de industrias pequeñas por pandemia   \n4    Gatell y AMLO deben rendir cuentas por fallas ...   \n..                                                 ...   \n127  Casos confirmados de Covid-19 al 20 de julio, ...   \n128                Famosos que han muerto en este 2020   \n129  AMLO pide a gobernadores mantener coordinación...   \n130  SLP siempre ha entregado a tiempo la informaci...   \n131          América revela su nuevo uniforme de local   \n\n                                                   url  \n0    https://www.eluniversal.com.mx/estados/casos-d...  \n1    https://www.viveusa.mx/showbiz/que-fue-de-la-p...  \n2    https://www.viveusa.mx/noticias/como-ha-cambia...  \n3    https://www.eluniversalqueretaro.mx/portada/qu...  \n4    https://www.eluniversal.com.mx/nacion/coronavi...  \n..                                                 ...  \n127  https://www.eluniversal.com.mx/estados/casos-c...  \n128  https://www.eluniversal.com.mx/espectaculos/fa...  \n129  https://www.eluniversal.com.mx/nacion/amlo-pid...  \n130  https://sanluis.eluniversal.com.mx/sociedad/11...  \n131  https://www.eluniversal.com.mx/universal-depor...  \n\n[132 rows x 2 columns]",
      "text/html": "<div>\n<style scoped>\n    .dataframe tbody tr th:only-of-type {\n        vertical-align: middle;\n    }\n\n    .dataframe tbody tr th {\n        vertical-align: top;\n    }\n\n    .dataframe thead th {\n        text-align: right;\n    }\n</style>\n<table border=\"1\" class=\"dataframe\">\n  <thead>\n    <tr style=\"text-align: right;\">\n      <th></th>\n      <th>title</th>\n      <th>url</th>\n    </tr>\n  </thead>\n  <tbody>\n    <tr>\n      <th>0</th>\n      <td>Casos de Covid-19 confirmados en México al 20 ...</td>\n      <td>https://www.eluniversal.com.mx/estados/casos-d...</td>\n    </tr>\n    <tr>\n      <th>1</th>\n      <td>NaN</td>\n      <td>https://www.viveusa.mx/showbiz/que-fue-de-la-p...</td>\n    </tr>\n    <tr>\n      <th>2</th>\n      <td>NaN</td>\n      <td>https://www.viveusa.mx/noticias/como-ha-cambia...</td>\n    </tr>\n    <tr>\n      <th>3</th>\n      <td>Quiebran 33% de industrias pequeñas por pandemia</td>\n      <td>https://www.eluniversalqueretaro.mx/portada/qu...</td>\n    </tr>\n    <tr>\n      <th>4</th>\n      <td>Gatell y AMLO deben rendir cuentas por fallas ...</td>\n      <td>https://www.eluniversal.com.mx/nacion/coronavi...</td>\n    </tr>\n    <tr>\n      <th>...</th>\n      <td>...</td>\n      <td>...</td>\n    </tr>\n    <tr>\n      <th>127</th>\n      <td>Casos confirmados de Covid-19 al 20 de julio, ...</td>\n      <td>https://www.eluniversal.com.mx/estados/casos-c...</td>\n    </tr>\n    <tr>\n      <th>128</th>\n      <td>Famosos que han muerto en este 2020</td>\n      <td>https://www.eluniversal.com.mx/espectaculos/fa...</td>\n    </tr>\n    <tr>\n      <th>129</th>\n      <td>AMLO pide a gobernadores mantener coordinación...</td>\n      <td>https://www.eluniversal.com.mx/nacion/amlo-pid...</td>\n    </tr>\n    <tr>\n      <th>130</th>\n      <td>SLP siempre ha entregado a tiempo la informaci...</td>\n      <td>https://sanluis.eluniversal.com.mx/sociedad/11...</td>\n    </tr>\n    <tr>\n      <th>131</th>\n      <td>América revela su nuevo uniforme de local</td>\n      <td>https://www.eluniversal.com.mx/universal-depor...</td>\n    </tr>\n  </tbody>\n</table>\n<p>132 rows × 2 columns</p>\n</div>"
     },
     "metadata": {},
     "execution_count": 9
    }
   ],
   "source": [
    "el_universal[['title', 'url']]"
   ]
  },
  {
   "cell_type": "code",
   "execution_count": 10,
   "metadata": {},
   "outputs": [
    {
     "output_type": "execute_result",
     "data": {
      "text/plain": "                                                 body  \\\n10  \\n\\nCUERNAVACA, Mor.- Frente al desarrollo del...   \n11  \\nLa NASA publicó en su observador de asteroid...   \n12  \\n\\nEl impacto de la pandemia de Covid-19 prov...   \n13  \\n\\nDiputados de Morena presentaron una nueva ...   \n14  \\nLeer en español\\nMexican authorities registe...   \n\n                                                title  \\\n10  Regidores de Cuernavaca proponen multar a quie...   \n11  Un asteroide \"potencialmente peligroso\" pasará...   \n12  México tendrá una recesión profunda y reto may...   \n13  Otra vez Morena va contra arrendatarios; ahora...   \n14  Security forces clash with criminal group in T...   \n\n                                                  url  \n10  https://www.eluniversal.com.mx/estados/morelos...  \n11  https://www.eluniversal.com.mx/ciencia-y-salud...  \n12  https://www.eluniversal.com.mx/cartera/mexico-...  \n13  https://www.eluniversal.com.mx/metropoli/otra-...  \n14  https://www.eluniversal.com.mx/english/securit...  ",
      "text/html": "<div>\n<style scoped>\n    .dataframe tbody tr th:only-of-type {\n        vertical-align: middle;\n    }\n\n    .dataframe tbody tr th {\n        vertical-align: top;\n    }\n\n    .dataframe thead th {\n        text-align: right;\n    }\n</style>\n<table border=\"1\" class=\"dataframe\">\n  <thead>\n    <tr style=\"text-align: right;\">\n      <th></th>\n      <th>body</th>\n      <th>title</th>\n      <th>url</th>\n    </tr>\n  </thead>\n  <tbody>\n    <tr>\n      <th>10</th>\n      <td>\\n\\nCUERNAVACA, Mor.- Frente al desarrollo del...</td>\n      <td>Regidores de Cuernavaca proponen multar a quie...</td>\n      <td>https://www.eluniversal.com.mx/estados/morelos...</td>\n    </tr>\n    <tr>\n      <th>11</th>\n      <td>\\nLa NASA publicó en su observador de asteroid...</td>\n      <td>Un asteroide \"potencialmente peligroso\" pasará...</td>\n      <td>https://www.eluniversal.com.mx/ciencia-y-salud...</td>\n    </tr>\n    <tr>\n      <th>12</th>\n      <td>\\n\\nEl impacto de la pandemia de Covid-19 prov...</td>\n      <td>México tendrá una recesión profunda y reto may...</td>\n      <td>https://www.eluniversal.com.mx/cartera/mexico-...</td>\n    </tr>\n    <tr>\n      <th>13</th>\n      <td>\\n\\nDiputados de Morena presentaron una nueva ...</td>\n      <td>Otra vez Morena va contra arrendatarios; ahora...</td>\n      <td>https://www.eluniversal.com.mx/metropoli/otra-...</td>\n    </tr>\n    <tr>\n      <th>14</th>\n      <td>\\nLeer en español\\nMexican authorities registe...</td>\n      <td>Security forces clash with criminal group in T...</td>\n      <td>https://www.eluniversal.com.mx/english/securit...</td>\n    </tr>\n  </tbody>\n</table>\n</div>"
     },
     "metadata": {},
     "execution_count": 10
    }
   ],
   "source": [
    "# like numpy\n",
    "\n",
    "el_universal.iloc[10:15]"
   ]
  },
  {
   "cell_type": "code",
   "execution_count": 11,
   "metadata": {},
   "outputs": [
    {
     "output_type": "execute_result",
     "data": {
      "text/plain": "'Regidores de Cuernavaca proponen multar a quien no use cubrebocas'"
     },
     "metadata": {},
     "execution_count": 11
    }
   ],
   "source": [
    "el_universal.iloc[10]['title']"
   ]
  },
  {
   "cell_type": "code",
   "execution_count": 12,
   "metadata": {},
   "outputs": [
    {
     "output_type": "execute_result",
     "data": {
      "text/plain": "0    \\n\\nEl comunicado técnico diario de la Secreta...\n1    \\nEn la década de los 90 los televidentes vier...\n2    \\nMudanzas en serie, desempleo, criminalidad e...\n3    \\nAlrededor del 33% las microindustrias queret...\n4    \\nEl líder nacional del PAN, Marko Cortés aseg...\nName: body, dtype: object"
     },
     "metadata": {},
     "execution_count": 12
    }
   ],
   "source": [
    "el_universal.iloc[:5, 0]"
   ]
  },
  {
   "cell_type": "code",
   "execution_count": 13,
   "metadata": {},
   "outputs": [
    {
     "output_type": "execute_result",
     "data": {
      "text/plain": "                                                  body  \\\n5    \\nMollie Hannah Gould, la novia de Luis Miguel...   \n6     3 % PULSO SOCIAL1 Cuando somos mujeres a vece...   \n7    \\nCiudad Victoria, Tamaulipas.- El titular de ...   \n8    \\n\\n\\n\\n\\n\\nEn los más de tres décadas del mat...   \n9    \\nEmilio Lozoya llegó a México entre suspicaci...   \n..                                                 ...   \n127  \\n\\nEn Puebla se han registrado 1,998 muertes ...   \n128  \\n\\nHan pasado siete meses de este 2020 y el a...   \n129  \\nEl presidente Andrés Manuel López Obrador pi...   \n130  \\nLuego de que el subsecretario de Prevención ...   \n131  \\nEl Club América hizo oficial su indumentaria...   \n\n                                                 title  \n5                                                  NaN  \n6                                                  NaN  \n7    Tamaulipas alista 100 órdenes de aprehensión c...  \n8          Vicente Fernández y sus amantes más famosas  \n9                 El plan Lozoya, como show de Netflix  \n..                                                 ...  \n127  Casos confirmados de Covid-19 al 20 de julio, ...  \n128                Famosos que han muerto en este 2020  \n129  AMLO pide a gobernadores mantener coordinación...  \n130  SLP siempre ha entregado a tiempo la informaci...  \n131          América revela su nuevo uniforme de local  \n\n[127 rows x 2 columns]",
      "text/html": "<div>\n<style scoped>\n    .dataframe tbody tr th:only-of-type {\n        vertical-align: middle;\n    }\n\n    .dataframe tbody tr th {\n        vertical-align: top;\n    }\n\n    .dataframe thead th {\n        text-align: right;\n    }\n</style>\n<table border=\"1\" class=\"dataframe\">\n  <thead>\n    <tr style=\"text-align: right;\">\n      <th></th>\n      <th>body</th>\n      <th>title</th>\n    </tr>\n  </thead>\n  <tbody>\n    <tr>\n      <th>5</th>\n      <td>\\nMollie Hannah Gould, la novia de Luis Miguel...</td>\n      <td>NaN</td>\n    </tr>\n    <tr>\n      <th>6</th>\n      <td>3 % PULSO SOCIAL1 Cuando somos mujeres a vece...</td>\n      <td>NaN</td>\n    </tr>\n    <tr>\n      <th>7</th>\n      <td>\\nCiudad Victoria, Tamaulipas.- El titular de ...</td>\n      <td>Tamaulipas alista 100 órdenes de aprehensión c...</td>\n    </tr>\n    <tr>\n      <th>8</th>\n      <td>\\n\\n\\n\\n\\n\\nEn los más de tres décadas del mat...</td>\n      <td>Vicente Fernández y sus amantes más famosas</td>\n    </tr>\n    <tr>\n      <th>9</th>\n      <td>\\nEmilio Lozoya llegó a México entre suspicaci...</td>\n      <td>El plan Lozoya, como show de Netflix</td>\n    </tr>\n    <tr>\n      <th>...</th>\n      <td>...</td>\n      <td>...</td>\n    </tr>\n    <tr>\n      <th>127</th>\n      <td>\\n\\nEn Puebla se han registrado 1,998 muertes ...</td>\n      <td>Casos confirmados de Covid-19 al 20 de julio, ...</td>\n    </tr>\n    <tr>\n      <th>128</th>\n      <td>\\n\\nHan pasado siete meses de este 2020 y el a...</td>\n      <td>Famosos que han muerto en este 2020</td>\n    </tr>\n    <tr>\n      <th>129</th>\n      <td>\\nEl presidente Andrés Manuel López Obrador pi...</td>\n      <td>AMLO pide a gobernadores mantener coordinación...</td>\n    </tr>\n    <tr>\n      <th>130</th>\n      <td>\\nLuego de que el subsecretario de Prevención ...</td>\n      <td>SLP siempre ha entregado a tiempo la informaci...</td>\n    </tr>\n    <tr>\n      <th>131</th>\n      <td>\\nEl Club América hizo oficial su indumentaria...</td>\n      <td>América revela su nuevo uniforme de local</td>\n    </tr>\n  </tbody>\n</table>\n<p>127 rows × 2 columns</p>\n</div>"
     },
     "metadata": {},
     "execution_count": 13
    }
   ],
   "source": [
    "el_universal.loc[5:, 'body':'title']"
   ]
  },
  {
   "cell_type": "markdown",
   "metadata": {},
   "source": [
    "# Data wrangling"
   ]
  },
  {
   "cell_type": "code",
   "execution_count": 16,
   "metadata": {},
   "outputs": [
    {
     "output_type": "execute_result",
     "data": {
      "text/plain": "                                                  body  \\\n0    \\n\\nEl comunicado técnico diario de la Secreta...   \n1    \\nEn la década de los 90 los televidentes vier...   \n2    \\nMudanzas en serie, desempleo, criminalidad e...   \n3    \\nAlrededor del 33% las microindustrias queret...   \n4    \\nEl líder nacional del PAN, Marko Cortés aseg...   \n..                                                 ...   \n127  \\n\\nEn Puebla se han registrado 1,998 muertes ...   \n128  \\n\\nHan pasado siete meses de este 2020 y el a...   \n129  \\nEl presidente Andrés Manuel López Obrador pi...   \n130  \\nLuego de que el subsecretario de Prevención ...   \n131  \\nEl Club América hizo oficial su indumentaria...   \n\n                                                 title  \\\n0    Casos de Covid-19 confirmados en México al 20 ...   \n1                                                  NaN   \n2                                                  NaN   \n3     Quiebran 33% de industrias pequeñas por pandemia   \n4    Gatell y AMLO deben rendir cuentas por fallas ...   \n..                                                 ...   \n127  Casos confirmados de Covid-19 al 20 de julio, ...   \n128                Famosos que han muerto en este 2020   \n129  AMLO pide a gobernadores mantener coordinación...   \n130  SLP siempre ha entregado a tiempo la informaci...   \n131          América revela su nuevo uniforme de local   \n\n                                                   url newspaper_uid  \n0    https://www.eluniversal.com.mx/estados/casos-d...   eluniversal  \n1    https://www.viveusa.mx/showbiz/que-fue-de-la-p...   eluniversal  \n2    https://www.viveusa.mx/noticias/como-ha-cambia...   eluniversal  \n3    https://www.eluniversalqueretaro.mx/portada/qu...   eluniversal  \n4    https://www.eluniversal.com.mx/nacion/coronavi...   eluniversal  \n..                                                 ...           ...  \n127  https://www.eluniversal.com.mx/estados/casos-c...   eluniversal  \n128  https://www.eluniversal.com.mx/espectaculos/fa...   eluniversal  \n129  https://www.eluniversal.com.mx/nacion/amlo-pid...   eluniversal  \n130  https://sanluis.eluniversal.com.mx/sociedad/11...   eluniversal  \n131  https://www.eluniversal.com.mx/universal-depor...   eluniversal  \n\n[132 rows x 4 columns]",
      "text/html": "<div>\n<style scoped>\n    .dataframe tbody tr th:only-of-type {\n        vertical-align: middle;\n    }\n\n    .dataframe tbody tr th {\n        vertical-align: top;\n    }\n\n    .dataframe thead th {\n        text-align: right;\n    }\n</style>\n<table border=\"1\" class=\"dataframe\">\n  <thead>\n    <tr style=\"text-align: right;\">\n      <th></th>\n      <th>body</th>\n      <th>title</th>\n      <th>url</th>\n      <th>newspaper_uid</th>\n    </tr>\n  </thead>\n  <tbody>\n    <tr>\n      <th>0</th>\n      <td>\\n\\nEl comunicado técnico diario de la Secreta...</td>\n      <td>Casos de Covid-19 confirmados en México al 20 ...</td>\n      <td>https://www.eluniversal.com.mx/estados/casos-d...</td>\n      <td>eluniversal</td>\n    </tr>\n    <tr>\n      <th>1</th>\n      <td>\\nEn la década de los 90 los televidentes vier...</td>\n      <td>NaN</td>\n      <td>https://www.viveusa.mx/showbiz/que-fue-de-la-p...</td>\n      <td>eluniversal</td>\n    </tr>\n    <tr>\n      <th>2</th>\n      <td>\\nMudanzas en serie, desempleo, criminalidad e...</td>\n      <td>NaN</td>\n      <td>https://www.viveusa.mx/noticias/como-ha-cambia...</td>\n      <td>eluniversal</td>\n    </tr>\n    <tr>\n      <th>3</th>\n      <td>\\nAlrededor del 33% las microindustrias queret...</td>\n      <td>Quiebran 33% de industrias pequeñas por pandemia</td>\n      <td>https://www.eluniversalqueretaro.mx/portada/qu...</td>\n      <td>eluniversal</td>\n    </tr>\n    <tr>\n      <th>4</th>\n      <td>\\nEl líder nacional del PAN, Marko Cortés aseg...</td>\n      <td>Gatell y AMLO deben rendir cuentas por fallas ...</td>\n      <td>https://www.eluniversal.com.mx/nacion/coronavi...</td>\n      <td>eluniversal</td>\n    </tr>\n    <tr>\n      <th>...</th>\n      <td>...</td>\n      <td>...</td>\n      <td>...</td>\n      <td>...</td>\n    </tr>\n    <tr>\n      <th>127</th>\n      <td>\\n\\nEn Puebla se han registrado 1,998 muertes ...</td>\n      <td>Casos confirmados de Covid-19 al 20 de julio, ...</td>\n      <td>https://www.eluniversal.com.mx/estados/casos-c...</td>\n      <td>eluniversal</td>\n    </tr>\n    <tr>\n      <th>128</th>\n      <td>\\n\\nHan pasado siete meses de este 2020 y el a...</td>\n      <td>Famosos que han muerto en este 2020</td>\n      <td>https://www.eluniversal.com.mx/espectaculos/fa...</td>\n      <td>eluniversal</td>\n    </tr>\n    <tr>\n      <th>129</th>\n      <td>\\nEl presidente Andrés Manuel López Obrador pi...</td>\n      <td>AMLO pide a gobernadores mantener coordinación...</td>\n      <td>https://www.eluniversal.com.mx/nacion/amlo-pid...</td>\n      <td>eluniversal</td>\n    </tr>\n    <tr>\n      <th>130</th>\n      <td>\\nLuego de que el subsecretario de Prevención ...</td>\n      <td>SLP siempre ha entregado a tiempo la informaci...</td>\n      <td>https://sanluis.eluniversal.com.mx/sociedad/11...</td>\n      <td>eluniversal</td>\n    </tr>\n    <tr>\n      <th>131</th>\n      <td>\\nEl Club América hizo oficial su indumentaria...</td>\n      <td>América revela su nuevo uniforme de local</td>\n      <td>https://www.eluniversal.com.mx/universal-depor...</td>\n      <td>eluniversal</td>\n    </tr>\n  </tbody>\n</table>\n<p>132 rows × 4 columns</p>\n</div>"
     },
     "metadata": {},
     "execution_count": 16
    }
   ],
   "source": [
    "# 1. Añadir newspaper_uid al DataFrame\n",
    "\n",
    "el_universal['newspaper_uid'] = 'eluniversal'\n",
    "\n",
    "el_universal"
   ]
  },
  {
   "cell_type": "code",
   "execution_count": 17,
   "metadata": {},
   "outputs": [
    {
     "output_type": "execute_result",
     "data": {
      "text/plain": "                                                  body  \\\n0    \\n\\nEl comunicado técnico diario de la Secreta...   \n1    \\nEn la década de los 90 los televidentes vier...   \n2    \\nMudanzas en serie, desempleo, criminalidad e...   \n3    \\nAlrededor del 33% las microindustrias queret...   \n4    \\nEl líder nacional del PAN, Marko Cortés aseg...   \n..                                                 ...   \n127  \\n\\nEn Puebla se han registrado 1,998 muertes ...   \n128  \\n\\nHan pasado siete meses de este 2020 y el a...   \n129  \\nEl presidente Andrés Manuel López Obrador pi...   \n130  \\nLuego de que el subsecretario de Prevención ...   \n131  \\nEl Club América hizo oficial su indumentaria...   \n\n                                                 title  \\\n0    Casos de Covid-19 confirmados en México al 20 ...   \n1                                                  NaN   \n2                                                  NaN   \n3     Quiebran 33% de industrias pequeñas por pandemia   \n4    Gatell y AMLO deben rendir cuentas por fallas ...   \n..                                                 ...   \n127  Casos confirmados de Covid-19 al 20 de julio, ...   \n128                Famosos que han muerto en este 2020   \n129  AMLO pide a gobernadores mantener coordinación...   \n130  SLP siempre ha entregado a tiempo la informaci...   \n131          América revela su nuevo uniforme de local   \n\n                                                   url newspaper_uid  \\\n0    https://www.eluniversal.com.mx/estados/casos-d...   eluniversal   \n1    https://www.viveusa.mx/showbiz/que-fue-de-la-p...   eluniversal   \n2    https://www.viveusa.mx/noticias/como-ha-cambia...   eluniversal   \n3    https://www.eluniversalqueretaro.mx/portada/qu...   eluniversal   \n4    https://www.eluniversal.com.mx/nacion/coronavi...   eluniversal   \n..                                                 ...           ...   \n127  https://www.eluniversal.com.mx/estados/casos-c...   eluniversal   \n128  https://www.eluniversal.com.mx/espectaculos/fa...   eluniversal   \n129  https://www.eluniversal.com.mx/nacion/amlo-pid...   eluniversal   \n130  https://sanluis.eluniversal.com.mx/sociedad/11...   eluniversal   \n131  https://www.eluniversal.com.mx/universal-depor...   eluniversal   \n\n                            host  \n0         www.eluniversal.com.mx  \n1                 www.viveusa.mx  \n2                 www.viveusa.mx  \n3    www.eluniversalqueretaro.mx  \n4         www.eluniversal.com.mx  \n..                           ...  \n127       www.eluniversal.com.mx  \n128       www.eluniversal.com.mx  \n129       www.eluniversal.com.mx  \n130   sanluis.eluniversal.com.mx  \n131       www.eluniversal.com.mx  \n\n[132 rows x 5 columns]",
      "text/html": "<div>\n<style scoped>\n    .dataframe tbody tr th:only-of-type {\n        vertical-align: middle;\n    }\n\n    .dataframe tbody tr th {\n        vertical-align: top;\n    }\n\n    .dataframe thead th {\n        text-align: right;\n    }\n</style>\n<table border=\"1\" class=\"dataframe\">\n  <thead>\n    <tr style=\"text-align: right;\">\n      <th></th>\n      <th>body</th>\n      <th>title</th>\n      <th>url</th>\n      <th>newspaper_uid</th>\n      <th>host</th>\n    </tr>\n  </thead>\n  <tbody>\n    <tr>\n      <th>0</th>\n      <td>\\n\\nEl comunicado técnico diario de la Secreta...</td>\n      <td>Casos de Covid-19 confirmados en México al 20 ...</td>\n      <td>https://www.eluniversal.com.mx/estados/casos-d...</td>\n      <td>eluniversal</td>\n      <td>www.eluniversal.com.mx</td>\n    </tr>\n    <tr>\n      <th>1</th>\n      <td>\\nEn la década de los 90 los televidentes vier...</td>\n      <td>NaN</td>\n      <td>https://www.viveusa.mx/showbiz/que-fue-de-la-p...</td>\n      <td>eluniversal</td>\n      <td>www.viveusa.mx</td>\n    </tr>\n    <tr>\n      <th>2</th>\n      <td>\\nMudanzas en serie, desempleo, criminalidad e...</td>\n      <td>NaN</td>\n      <td>https://www.viveusa.mx/noticias/como-ha-cambia...</td>\n      <td>eluniversal</td>\n      <td>www.viveusa.mx</td>\n    </tr>\n    <tr>\n      <th>3</th>\n      <td>\\nAlrededor del 33% las microindustrias queret...</td>\n      <td>Quiebran 33% de industrias pequeñas por pandemia</td>\n      <td>https://www.eluniversalqueretaro.mx/portada/qu...</td>\n      <td>eluniversal</td>\n      <td>www.eluniversalqueretaro.mx</td>\n    </tr>\n    <tr>\n      <th>4</th>\n      <td>\\nEl líder nacional del PAN, Marko Cortés aseg...</td>\n      <td>Gatell y AMLO deben rendir cuentas por fallas ...</td>\n      <td>https://www.eluniversal.com.mx/nacion/coronavi...</td>\n      <td>eluniversal</td>\n      <td>www.eluniversal.com.mx</td>\n    </tr>\n    <tr>\n      <th>...</th>\n      <td>...</td>\n      <td>...</td>\n      <td>...</td>\n      <td>...</td>\n      <td>...</td>\n    </tr>\n    <tr>\n      <th>127</th>\n      <td>\\n\\nEn Puebla se han registrado 1,998 muertes ...</td>\n      <td>Casos confirmados de Covid-19 al 20 de julio, ...</td>\n      <td>https://www.eluniversal.com.mx/estados/casos-c...</td>\n      <td>eluniversal</td>\n      <td>www.eluniversal.com.mx</td>\n    </tr>\n    <tr>\n      <th>128</th>\n      <td>\\n\\nHan pasado siete meses de este 2020 y el a...</td>\n      <td>Famosos que han muerto en este 2020</td>\n      <td>https://www.eluniversal.com.mx/espectaculos/fa...</td>\n      <td>eluniversal</td>\n      <td>www.eluniversal.com.mx</td>\n    </tr>\n    <tr>\n      <th>129</th>\n      <td>\\nEl presidente Andrés Manuel López Obrador pi...</td>\n      <td>AMLO pide a gobernadores mantener coordinación...</td>\n      <td>https://www.eluniversal.com.mx/nacion/amlo-pid...</td>\n      <td>eluniversal</td>\n      <td>www.eluniversal.com.mx</td>\n    </tr>\n    <tr>\n      <th>130</th>\n      <td>\\nLuego de que el subsecretario de Prevención ...</td>\n      <td>SLP siempre ha entregado a tiempo la informaci...</td>\n      <td>https://sanluis.eluniversal.com.mx/sociedad/11...</td>\n      <td>eluniversal</td>\n      <td>sanluis.eluniversal.com.mx</td>\n    </tr>\n    <tr>\n      <th>131</th>\n      <td>\\nEl Club América hizo oficial su indumentaria...</td>\n      <td>América revela su nuevo uniforme de local</td>\n      <td>https://www.eluniversal.com.mx/universal-depor...</td>\n      <td>eluniversal</td>\n      <td>www.eluniversal.com.mx</td>\n    </tr>\n  </tbody>\n</table>\n<p>132 rows × 5 columns</p>\n</div>"
     },
     "metadata": {},
     "execution_count": 17
    }
   ],
   "source": [
    "# 2. Obtener el host\n",
    "from urllib.parse import urlparse\n",
    "\n",
    "el_universal['host'] = el_universal['url'].apply(lambda url:urlparse(url).netloc)\n",
    "\n",
    "el_universal"
   ]
  },
  {
   "cell_type": "code",
   "execution_count": 18,
   "metadata": {},
   "outputs": [
    {
     "output_type": "execute_result",
     "data": {
      "text/plain": "www.eluniversal.com.mx         78\nwww.viveusa.mx                 16\nde10.com.mx                     6\noaxaca.eluniversal.com.mx       6\nwww.eluniversalqueretaro.mx     6\n                               ..\nwww.unionyucatan.mx             2\nwww.unionguanajuato.mx          1\nwww.unioncdmx.mx                1\nwww.unionedomex.mx              1\nwww.clubeluniversal.mx          1\nName: host, Length: 13, dtype: int64"
     },
     "metadata": {},
     "execution_count": 18
    }
   ],
   "source": [
    "el_universal['host'].value_counts()"
   ]
  }
 ]
}